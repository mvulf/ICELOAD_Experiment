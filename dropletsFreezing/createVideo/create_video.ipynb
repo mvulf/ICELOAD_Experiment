{
 "cells": [
  {
   "cell_type": "code",
   "execution_count": 1,
   "metadata": {},
   "outputs": [],
   "source": [
    "# import cv2\n",
    "import numpy as np\n",
    "import os\n",
    "from os.path import isfile, join, isdir\n",
    "\n",
    "# Import own lib\n",
    "from createVideo import create_video\n",
    "\n",
    "# ROOT FOLDER\n",
    "root = 'E:/work'"
   ]
  },
  {
   "cell_type": "code",
   "execution_count": 2,
   "metadata": {},
   "outputs": [
    {
     "name": "stdout",
     "output_type": "stream",
     "text": [
      "TEST: 0001\n",
      "Start recording: E:/work\\0001\\baumerFront\\baumerFront.avi\n",
      "End recording: E:/work\\0001\\baumerFront\\baumerFront.avi\n",
      "Start recording: E:/work\\0001\\baumerUp\\baumerUp.avi\n",
      "End recording: E:/work\\0001\\baumerUp\\baumerUp.avi\n",
      "Start recording: E:/work\\0001\\photron\\photron.avi\n",
      "End recording: E:/work\\0001\\photron\\photron.avi\n",
      "Start recording: E:/work\\0001\\sony\\sony.avi\n",
      "Missed: E:/work\\0001\\sony/Thumbs.db\n",
      "End recording: E:/work\\0001\\sony\\sony.avi\n",
      "TEST: 0002\n",
      "Start recording: E:/work\\0002\\baumerFront\\baumerFront.avi\n",
      "End recording: E:/work\\0002\\baumerFront\\baumerFront.avi\n",
      "Start recording: E:/work\\0002\\baumerUp\\baumerUp.avi\n",
      "End recording: E:/work\\0002\\baumerUp\\baumerUp.avi\n",
      "Start recording: E:/work\\0002\\sony\\sony.avi\n",
      "End recording: E:/work\\0002\\sony\\sony.avi\n",
      "TEST: 0003\n",
      "Start recording: E:/work\\0003\\baumerFront\\baumerFront.avi\n",
      "End recording: E:/work\\0003\\baumerFront\\baumerFront.avi\n",
      "Start recording: E:/work\\0003\\baumerUp\\baumerUp.avi\n",
      "End recording: E:/work\\0003\\baumerUp\\baumerUp.avi\n",
      "Start recording: E:/work\\0003\\sony\\sony.avi\n",
      "End recording: E:/work\\0003\\sony\\sony.avi\n",
      "TEST: 0004\n",
      "Start recording: E:/work\\0004\\baumerFront\\baumerFront.avi\n",
      "End recording: E:/work\\0004\\baumerFront\\baumerFront.avi\n",
      "Start recording: E:/work\\0004\\baumerUp\\baumerUp.avi\n",
      "End recording: E:/work\\0004\\baumerUp\\baumerUp.avi\n",
      "Start recording: E:/work\\0004\\sony\\sony.avi\n",
      "End recording: E:/work\\0004\\sony\\sony.avi\n",
      "TEST: 0005\n",
      "Start recording: E:/work\\0005\\baumerFront\\baumerFront.avi\n",
      "End recording: E:/work\\0005\\baumerFront\\baumerFront.avi\n",
      "Start recording: E:/work\\0005\\baumerUp\\baumerUp.avi\n",
      "End recording: E:/work\\0005\\baumerUp\\baumerUp.avi\n",
      "Start recording: E:/work\\0005\\sony\\sony.avi\n",
      "End recording: E:/work\\0005\\sony\\sony.avi\n",
      "TEST: 0006\n",
      "Start recording: E:/work\\0006\\baumerFront\\baumerFront.avi\n"
     ]
    },
    {
     "ename": "AttributeError",
     "evalue": "'NoneType' object has no attribute 'shape'",
     "output_type": "error",
     "traceback": [
      "\u001b[1;31m---------------------------------------------------------------------------\u001b[0m",
      "\u001b[1;31mAttributeError\u001b[0m                            Traceback (most recent call last)",
      "\u001b[1;32mC:\\Users\\MEEFD~1.VUL\\AppData\\Local\\Temp/ipykernel_9904/3945264467.py\u001b[0m in \u001b[0;36m<module>\u001b[1;34m\u001b[0m\n\u001b[0;32m     15\u001b[0m \u001b[1;33m\u001b[0m\u001b[0m\n\u001b[0;32m     16\u001b[0m         \u001b[1;31m# Create video\u001b[0m\u001b[1;33m\u001b[0m\u001b[1;33m\u001b[0m\u001b[0m\n\u001b[1;32m---> 17\u001b[1;33m         \u001b[0mcreate_video\u001b[0m\u001b[1;33m(\u001b[0m\u001b[0mpathIn\u001b[0m\u001b[1;33m,\u001b[0m \u001b[0mpathOut\u001b[0m\u001b[1;33m)\u001b[0m\u001b[1;33m\u001b[0m\u001b[1;33m\u001b[0m\u001b[0m\n\u001b[0m\u001b[0;32m     18\u001b[0m         \u001b[0mprint\u001b[0m\u001b[1;33m(\u001b[0m\u001b[1;34m'End recording:'\u001b[0m\u001b[1;33m,\u001b[0m \u001b[0mpathOut\u001b[0m\u001b[1;33m)\u001b[0m\u001b[1;33m\u001b[0m\u001b[1;33m\u001b[0m\u001b[0m\n",
      "\u001b[1;32mc:\\Users\\M.Vulf\\IceWork\\ICELOAD_Experiment\\dropletsFreezing\\createVideo\\createVideo.py\u001b[0m in \u001b[0;36mcreate_video\u001b[1;34m(pathIn, pathOut, fps)\u001b[0m\n\u001b[0;32m     27\u001b[0m             \u001b[1;31m#reading each image\u001b[0m\u001b[1;33m\u001b[0m\u001b[1;33m\u001b[0m\u001b[0m\n\u001b[0;32m     28\u001b[0m             \u001b[0mimg\u001b[0m \u001b[1;33m=\u001b[0m \u001b[0mcv2\u001b[0m\u001b[1;33m.\u001b[0m\u001b[0mimread\u001b[0m\u001b[1;33m(\u001b[0m\u001b[0mfilename\u001b[0m\u001b[1;33m)\u001b[0m\u001b[1;33m\u001b[0m\u001b[1;33m\u001b[0m\u001b[0m\n\u001b[1;32m---> 29\u001b[1;33m             \u001b[0mheight\u001b[0m\u001b[1;33m,\u001b[0m \u001b[0mwidth\u001b[0m\u001b[1;33m,\u001b[0m \u001b[0mlayers\u001b[0m \u001b[1;33m=\u001b[0m \u001b[0mimg\u001b[0m\u001b[1;33m.\u001b[0m\u001b[0mshape\u001b[0m\u001b[1;33m\u001b[0m\u001b[1;33m\u001b[0m\u001b[0m\n\u001b[0m\u001b[0;32m     30\u001b[0m             \u001b[0msize\u001b[0m \u001b[1;33m=\u001b[0m \u001b[1;33m(\u001b[0m\u001b[0mwidth\u001b[0m\u001b[1;33m,\u001b[0m\u001b[0mheight\u001b[0m\u001b[1;33m)\u001b[0m\u001b[1;33m\u001b[0m\u001b[1;33m\u001b[0m\u001b[0m\n\u001b[0;32m     31\u001b[0m \u001b[1;33m\u001b[0m\u001b[0m\n",
      "\u001b[1;31mAttributeError\u001b[0m: 'NoneType' object has no attribute 'shape'"
     ]
    }
   ],
   "source": [
    "tests = os.listdir(root)\n",
    "for test in tests:\n",
    "    print(\"TEST:\", test)\n",
    "    test_dir = join(root, test)\n",
    "    # Get sub directories in the test\n",
    "    sub_dirs = [dir for dir in os.listdir(test_dir) if isdir(join(test_dir, dir))]\n",
    "\n",
    "    for sub_dir in sub_dirs:\n",
    "        # Get final folder with images\n",
    "        pathIn = [elem for elem in os.walk(join(test_dir, sub_dir))][-1][0]\n",
    "\n",
    "        # Set path to video file\n",
    "        pathOut = join(test_dir, sub_dir,sub_dir+'.avi')\n",
    "        print('Start recording:', pathOut)\n",
    "        \n",
    "        # Create video\n",
    "        create_video(pathIn, pathOut)\n",
    "        print('End recording:', pathOut)"
   ]
  }
 ],
 "metadata": {
  "interpreter": {
   "hash": "2e791eb2bbb5e200ef65e46b3c90da6639a3ab83112ee7d4f3b826ae576353c5"
  },
  "kernelspec": {
   "display_name": "Python 3.9.12 64-bit",
   "language": "python",
   "name": "python3"
  },
  "language_info": {
   "codemirror_mode": {
    "name": "ipython",
    "version": 3
   },
   "file_extension": ".py",
   "mimetype": "text/x-python",
   "name": "python",
   "nbconvert_exporter": "python",
   "pygments_lexer": "ipython3",
   "version": "3.9.7"
  },
  "orig_nbformat": 4
 },
 "nbformat": 4,
 "nbformat_minor": 2
}
