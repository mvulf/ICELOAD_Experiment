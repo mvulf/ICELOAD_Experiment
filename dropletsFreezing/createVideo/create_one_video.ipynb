{
 "cells": [
  {
   "cell_type": "code",
   "execution_count": 1,
   "metadata": {},
   "outputs": [],
   "source": [
    "# import cv2\n",
    "import numpy as np\n",
    "import os\n",
    "from os.path import isfile, join, isdir\n",
    "\n",
    "# Import own lib\n",
    "from createVideo import create_video\n",
    "\n",
    "# ROOT FOLDER\n",
    "root = 'C:\\\\Users\\\\M.Vulf\\\\Pictures\\\\Baumer Image Records\\\\VLXT-17M.I\\\\2022-06-28_Baumer_speed_test'"
   ]
  },
  {
   "cell_type": "code",
   "execution_count": 2,
   "metadata": {},
   "outputs": [
    {
     "name": "stdout",
     "output_type": "stream",
     "text": [
      "TEST: 0001\n",
      "Start recording: C:\\Users\\M.Vulf\\Pictures\\Baumer Image Records\\VLXT-17M.I\\2022-06-28_Baumer_speed_test\\0001\\baumer\\baumer.avi\n",
      "Missed: C:\\Users\\M.Vulf\\Pictures\\Baumer Image Records\\VLXT-17M.I\\2022-06-28_Baumer_speed_test\\0001\\baumer/baumer_2.avi\n",
      "End recording: C:\\Users\\M.Vulf\\Pictures\\Baumer Image Records\\VLXT-17M.I\\2022-06-28_Baumer_speed_test\\0001\\baumer\\baumer.avi\n"
     ]
    }
   ],
   "source": [
    "tests = os.listdir(root)\n",
    "for test in tests:\n",
    "    print(\"TEST:\", test)\n",
    "    test_dir = join(root, test)\n",
    "    # Get sub directories in the test\n",
    "    sub_dirs = [dir for dir in os.listdir(test_dir) if isdir(join(test_dir, dir))]\n",
    "\n",
    "    for sub_dir in sub_dirs:\n",
    "        # Get final folder with images\n",
    "        pathIn = [elem for elem in os.walk(join(test_dir, sub_dir))][-1][0]\n",
    "\n",
    "        # Set path to video file\n",
    "        pathOut = join(test_dir, sub_dir,sub_dir+'.avi')\n",
    "        print('Start recording:', pathOut)\n",
    "        \n",
    "        # Create video\n",
    "        create_video(pathIn, pathOut, fps=25)\n",
    "        print('End recording:', pathOut)"
   ]
  }
 ],
 "metadata": {
  "interpreter": {
   "hash": "ad2bdc8ecc057115af97d19610ffacc2b4e99fae6737bb82f5d7fb13d2f2c186"
  },
  "kernelspec": {
   "display_name": "Python 3.9.7 ('base')",
   "language": "python",
   "name": "python3"
  },
  "language_info": {
   "codemirror_mode": {
    "name": "ipython",
    "version": 3
   },
   "file_extension": ".py",
   "mimetype": "text/x-python",
   "name": "python",
   "nbconvert_exporter": "python",
   "pygments_lexer": "ipython3",
   "version": "3.9.7"
  },
  "orig_nbformat": 4
 },
 "nbformat": 4,
 "nbformat_minor": 2
}
