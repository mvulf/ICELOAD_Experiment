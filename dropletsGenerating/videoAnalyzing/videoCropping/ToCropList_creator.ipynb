{
 "cells": [
  {
   "cell_type": "code",
   "execution_count": null,
   "metadata": {},
   "outputs": [],
   "source": [
    "# IMPORT STANDART LIBRARIES\n",
    "import os\n",
    "import re\n",
    "import pandas as pd\n",
    "import numpy as np\n",
    "import math\n",
    "import matplotlib.pyplot as plt\n",
    "from matplotlib.ticker import (AutoMinorLocator, MultipleLocator)\n",
    "import seaborn as sns\n",
    "from IPython.display import display\n",
    "\n",
    "import win32con, win32api, os\n",
    "\n",
    "import warnings; warnings.simplefilter('ignore')\n",
    "sns.set()\n",
    "\n",
    "# IMPORT OWN FUNCTIONS\n",
    "from save_data import save_csv, save_xlsx\n",
    "\n",
    "# FILES:\n",
    "# Root-folder path\n",
    "main_path = 'Z:\\\\Projects\\\\РФФИ-Норвегия\\\\Данные\\\\Экспериментальные данные в лаборатории\\\\Droplet freezing facility data\\\\Generating droplets'\n",
    "# Dataframe-name\n",
    "dataframe_name = 'GENERATING_DATA.csv'\n",
    "xlsx_name = 'GENERATING_DATA.xlsx'\n",
    "\n",
    "# name of folder containing videos\n",
    "video_folder = 'VIDEO_DATA'\n",
    "# cropped-results folder\n",
    "cropped_folder = 'cropping_data'\n",
    "# Cropping-folder path\n",
    "cropping_path = os.path.join(main_path, video_folder, cropped_folder)\n",
    "\n",
    "# Name of folder containing droplet properties\n",
    "imgproc_folder = 'IMAGE_PROCESSING_DATA'\n",
    "imgproc_path = os.path.join(main_path, imgproc_folder)\n",
    "\n",
    "# opening dataframes\n",
    "df = pd.read_csv(os.path.join(main_path, dataframe_name))\n"
   ]
  },
  {
   "cell_type": "markdown",
   "metadata": {},
   "source": [
    "### Create video analyze list"
   ]
  },
  {
   "cell_type": "code",
   "execution_count": null,
   "metadata": {},
   "outputs": [],
   "source": [
    "# Preparing video_names Series\n",
    "testSeries = df[(df['test_type']=='nozzle rec')&(df['video'].isin(['avi', 'avi, mraw']))]['test']\n",
    "testList = list(testSeries.apply(lambda x: \"{:04d}_photron_avi.avi\".format(x)))\n",
    "\n",
    "# Creating .txt-file\n",
    "with open(os.path.join(cropping_path,'Full_video_list.txt'),'w') as list_file:\n",
    "    for line in testList[:-1]:\n",
    "        list_file.write(line + '\\n')\n",
    "    list_file.write(testList[-1])"
   ]
  }
 ],
 "metadata": {
  "interpreter": {
   "hash": "8e71bf464ea94bffe0abc1de329c88c9a6db6e8037dfc9f1ac774941ff703d49"
  },
  "kernelspec": {
   "display_name": "Python 3.8.8 64-bit ('base': conda)",
   "language": "python",
   "name": "python3"
  },
  "language_info": {
   "codemirror_mode": {
    "name": "ipython",
    "version": 3
   },
   "file_extension": ".py",
   "mimetype": "text/x-python",
   "name": "python",
   "nbconvert_exporter": "python",
   "pygments_lexer": "ipython3",
   "version": "3.8.8"
  },
  "orig_nbformat": 4
 },
 "nbformat": 4,
 "nbformat_minor": 2
}
