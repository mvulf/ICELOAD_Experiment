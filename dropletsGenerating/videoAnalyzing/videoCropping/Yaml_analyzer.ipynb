{
 "cells": [
  {
   "cell_type": "code",
   "execution_count": 32,
   "metadata": {},
   "outputs": [
    {
     "name": "stdout",
     "output_type": "stream",
     "text": [
      "{'ANALYZE': [{'IterationNumber': 1, 'IterationDescription': 'First iteration. Total video count: 60. From 211 to 277.\\n', 'CropSettings': {'to_analyze': 'all', 'intensityThreshold': 40, 'scaleKoef': [4, 0.0], 'frameLimit': 100, 'smoothSpan': 5, 'polyOrder': [1, 1], 'quantileThreshold': [1.0, 0.25], 'upDownKoef': 2, 'baseSide': 'down'}, 'CropResults': [{False: {'testNums': [211, 212, 213, 248, 249, 261, 269, 274, 277]}}, {'long_begin': {'testNums': [247], 'comments': '247. See in long_end\\n'}}, {'long_end': {'testNums': [215, 217, 218, 219, 221, 222, 223, 224, 225, 227, 229, 230, 231, 232, 233, 234, 235, 236, 237, 239, 241, 242, 243, 244, 245, 246, 247, 250, 252, 253, 254, 255, 256, 257, 258, 259, 260, 262, 263, 265, 266, 267, 268, 270, 271, 272, 275, 276], 'comments': 'Common recomendation: increase down-quantileThreshold.\\nThere are no needles in tests.\\n215-... Dark up background. Graw/fall line trend. Change detrend order.\\n219,224,232,237,245,255,256,262,275. Dark up background. Horizontal line trend.\\n247. Like 215-... but also with long_begin.\\n271. Like 219... but also with short_end.\\n'}}, {'short_end': {'testNums': [271], 'comments': '271. See in long_end\\n'}}, {'start_defect': {'testNums': [220, 226, 238], 'comments': '220. Delete to 6 frame.\\n226. Delete to 7 frame.\\n238. Delete to 6 frame.\\n'}}]}, {'IterationNumber': 2, 'IterationDescription': 'Long_end analyzing. Increasing of quantileThreshold, changing detranding poly-order.\\n', 'CropSettings': {'to_analyze': [215, 217, 218, 219, 221, 222, 223, 224, 225, 227, 229, 230, 231, 232, 233, 234, 235, 236, 237, 239, 241, 242, 243, 244, 245, 246, 247, 250, 252, 253, 254, 255, 256, 257, 258, 259, 260, 262, 263, 265, 266, 267, 268, 270, 271, 272, 275, 276], 'intensityThreshold': 40, 'scaleKoef': [4, 0.0], 'frameLimit': 100, 'smoothSpan': 5, 'polyOrder': [1, 2], 'quantileThreshold': [1.0, 0.75], 'upDownKoef': 2, 'baseSide': 'down'}, 'CropResults': [{False: {'testNums': [215, 219, 221, 224, 225, 229, 230, 232, 233, 235, 241, 243, 246, 250, 255, 257, 258, 260, 262, 265, 266, 267, 268, 270, 272, 276]}}, {'long_begin': {'testNums': [247], 'comments': '247. Thery long begin\\n'}}, {'long_end': {'testNums': [217, 218, 222, 223, 227, 231, 234, 236, 237, 239, 242, 244, 245, 252, 253, 254, 256, 259, 263, 275], 'comments': 'Increase poly-order.          \\n'}}, {'short_end': {'testNums': [271], 'comments': ''}}]}, {'IterationNumber': 3, 'IterationDescription': 'Long_end second iteration analyzing. Increasing of quantileThreshold, changing detranding poly-order.\\n', 'CropSettings': {'to_analyze': [217, 218, 222, 223, 227, 231, 234, 236, 237, 239, 242, 244, 245, 252, 253, 254, 256, 259, 263, 275], 'intensityThreshold': 40, 'scaleKoef': [4, 0.0], 'frameLimit': 60, 'smoothSpan': 5, 'polyOrder': [1, 0], 'quantileThreshold': [1.0, 1.0], 'upDownKoef': 2, 'baseSide': 'down'}, 'CropResults': [{False: {'testNums': [217, 218, 222, 223, 227, 231, 234, 236, 237, 239, 242, 244, 245, 252, 253, 254, 256, 259, 263, 275]}}]}, {'IterationNumber': 4, 'IterationDescription': 'Individual approach to 5 of 60 video.\\n', 'CropSettings': None, 'to_analyze': [247, 271, 220, 226, 238], 'CropResults': [{False: {'testNums': [247, 271, 220, 226, 238]}}]}]}\n"
     ]
    }
   ],
   "source": [
    "import yaml\n",
    "import json\n",
    "import pandas as pd\n",
    "\n",
    "with open(\"2021-10-28_to end analyzing.yml\", \"r\", encoding='utf8') as stream:\n",
    "    try:\n",
    "        data = yaml.safe_load(stream)\n",
    "        print(data)\n",
    "    except yaml.YAMLError as exc:\n",
    "        print(exc)"
   ]
  },
  {
   "cell_type": "code",
   "execution_count": 34,
   "metadata": {},
   "outputs": [
    {
     "name": "stdout",
     "output_type": "stream",
     "text": [
      "60 of 60\n"
     ]
    }
   ],
   "source": [
    "# Good results\n",
    "good_res_count = 0\n",
    "for iteration in data['ANALYZE']:\n",
    "    good_res_count = good_res_count + len(iteration['CropResults'][False][0]['testNums'])\n",
    "print(good_res_count, 'of 60')"
   ]
  },
  {
   "cell_type": "code",
   "execution_count": 15,
   "metadata": {},
   "outputs": [
    {
     "data": {
      "text/plain": [
       "['0217_photron_avi.avi',\n",
       " '0218_photron_avi.avi',\n",
       " '0222_photron_avi.avi',\n",
       " '0223_photron_avi.avi',\n",
       " '0227_photron_avi.avi',\n",
       " '0231_photron_avi.avi',\n",
       " '0234_photron_avi.avi',\n",
       " '0236_photron_avi.avi',\n",
       " '0237_photron_avi.avi',\n",
       " '0239_photron_avi.avi',\n",
       " '0242_photron_avi.avi',\n",
       " '0244_photron_avi.avi',\n",
       " '0245_photron_avi.avi',\n",
       " '0252_photron_avi.avi',\n",
       " '0253_photron_avi.avi',\n",
       " '0254_photron_avi.avi',\n",
       " '0256_photron_avi.avi',\n",
       " '0259_photron_avi.avi',\n",
       " '0263_photron_avi.avi',\n",
       " '0275_photron_avi.avi']"
      ]
     },
     "metadata": {},
     "output_type": "display_data"
    }
   ],
   "source": [
    "# Create list for analyzing\n",
    "testNumList = data['ANALYZE'][2]['CropSettings']['toCrop']\n",
    "\n",
    "# Preparing video_names\n",
    "videoNameList = [\"{:04d}_photron_avi.avi\".format(x) for x in testNumList]\n",
    "display(videoNameList)\n",
    "\n",
    "# Creating .txt-file\n",
    "with open('toCrop_list.txt','w') as list_file:\n",
    "    for line in videoNameList[:-1]:\n",
    "        list_file.write(line + '\\n')\n",
    "    list_file.write(videoNameList[-1])"
   ]
  },
  {
   "cell_type": "markdown",
   "metadata": {},
   "source": [
    "### Old yaml-dataframe analyzing"
   ]
  },
  {
   "cell_type": "code",
   "execution_count": 42,
   "metadata": {},
   "outputs": [
    {
     "data": {
      "text/html": [
       "<div>\n",
       "<style scoped>\n",
       "    .dataframe tbody tr th:only-of-type {\n",
       "        vertical-align: middle;\n",
       "    }\n",
       "\n",
       "    .dataframe tbody tr th {\n",
       "        vertical-align: top;\n",
       "    }\n",
       "\n",
       "    .dataframe thead th {\n",
       "        text-align: right;\n",
       "    }\n",
       "</style>\n",
       "<table border=\"1\" class=\"dataframe\">\n",
       "  <thead>\n",
       "    <tr style=\"text-align: right;\">\n",
       "      <th></th>\n",
       "      <th>testNum</th>\n",
       "      <th>accept</th>\n",
       "      <th>defect</th>\n",
       "      <th>description</th>\n",
       "    </tr>\n",
       "  </thead>\n",
       "  <tbody>\n",
       "    <tr>\n",
       "      <th>8</th>\n",
       "      <td>159</td>\n",
       "      <td>False</td>\n",
       "      <td>long_begin</td>\n",
       "      <td>Crop 2.</td>\n",
       "    </tr>\n",
       "    <tr>\n",
       "      <th>19</th>\n",
       "      <td>170</td>\n",
       "      <td>False</td>\n",
       "      <td>[short_end, short_begin]</td>\n",
       "      <td>Crop 1x2,2. Strange trending.</td>\n",
       "    </tr>\n",
       "    <tr>\n",
       "      <th>46</th>\n",
       "      <td>198</td>\n",
       "      <td>False</td>\n",
       "      <td>[short_end, short_begin]</td>\n",
       "      <td>Crop 1,2. Strange trending.</td>\n",
       "    </tr>\n",
       "    <tr>\n",
       "      <th>47</th>\n",
       "      <td>199</td>\n",
       "      <td>False</td>\n",
       "      <td>[short_end, short_begin]</td>\n",
       "      <td>Crop 1,2. Strange trending.</td>\n",
       "    </tr>\n",
       "  </tbody>\n",
       "</table>\n",
       "</div>"
      ],
      "text/plain": [
       "    testNum  accept                    defect                    description\n",
       "8       159   False                long_begin                        Crop 2.\n",
       "19      170   False  [short_end, short_begin]  Crop 1x2,2. Strange trending.\n",
       "46      198   False  [short_end, short_begin]    Crop 1,2. Strange trending.\n",
       "47      199   False  [short_end, short_begin]    Crop 1,2. Strange trending."
      ]
     },
     "metadata": {},
     "output_type": "display_data"
    }
   ],
   "source": [
    "df = pd.DataFrame(data['CropResults'])\n",
    "df.set_index('testNum')\n",
    "df = df.replace('\\n','', regex=True)\n",
    "return_df = df[(~df['accept'])&(~(df['defect'].isin(['no_crop','long_end','short_end'])))]\n",
    "display(return_df)"
   ]
  },
  {
   "cell_type": "code",
   "execution_count": 44,
   "metadata": {},
   "outputs": [],
   "source": [
    "with open('df.yml', 'w') as file:\n",
    "    yaml.dump({'CropResults': json.loads(return_df.to_json(orient='records'))}, file, default_flow_style=False)"
   ]
  }
 ],
 "metadata": {
  "interpreter": {
   "hash": "83b9a617b8b4be5886ed6c653568835590c7def051a957552254019792cd311b"
  },
  "kernelspec": {
   "display_name": "Python 3.9.7 64-bit (windows store)",
   "name": "python3"
  },
  "language_info": {
   "codemirror_mode": {
    "name": "ipython",
    "version": 3
   },
   "file_extension": ".py",
   "mimetype": "text/x-python",
   "name": "python",
   "nbconvert_exporter": "python",
   "pygments_lexer": "ipython3",
   "version": "3.9.7"
  },
  "orig_nbformat": 4
 },
 "nbformat": 4,
 "nbformat_minor": 2
}
