{
 "cells": [
  {
   "cell_type": "markdown",
   "metadata": {},
   "source": [
    "### Preparing"
   ]
  },
  {
   "cell_type": "code",
   "execution_count": 1,
   "metadata": {},
   "outputs": [
    {
     "name": "stdout",
     "output_type": "stream",
     "text": [
      "<class 'pandas.core.frame.DataFrame'>\n",
      "RangeIndex: 955 entries, 0 to 954\n",
      "Data columns (total 28 columns):\n",
      " #   Column                    Non-Null Count  Dtype  \n",
      "---  ------                    --------------  -----  \n",
      " 0   test                      955 non-null    int64  \n",
      " 1   crop                      955 non-null    float64\n",
      " 2   test_type                 955 non-null    object \n",
      " 3   voltage                   945 non-null    float64\n",
      " 4   pressure                  945 non-null    float64\n",
      " 5   impulse_time              945 non-null    float64\n",
      " 6   needle                    945 non-null    object \n",
      " 7   nozzle                    945 non-null    object \n",
      " 8   distance                  0 non-null      float64\n",
      " 9   calibrat_test             945 non-null    float64\n",
      " 10  record_rate               947 non-null    float64\n",
      " 11  comments                  369 non-null    object \n",
      " 12  experiment_date           955 non-null    object \n",
      " 13  tester                    955 non-null    object \n",
      " 14  video                     713 non-null    object \n",
      " 15  pixel_size                955 non-null    float64\n",
      " 16  old_flow_type             710 non-null    object \n",
      " 17  old_droplet_size          152 non-null    float64\n",
      " 18  droplet_count             694 non-null    float64\n",
      " 19  flow_type                 694 non-null    object \n",
      " 20  droplet_size              543 non-null    float64\n",
      " 21  sigma_droplet_size        543 non-null    float64\n",
      " 22  starting_velocity         543 non-null    float64\n",
      " 23  ending_velocity           543 non-null    float64\n",
      " 24  fall_time                 229 non-null    float64\n",
      " 25  vertical_path             229 non-null    float64\n",
      " 26  max_horizontal_deviation  229 non-null    float64\n",
      " 27  impulse_count             240 non-null    float64\n",
      "dtypes: float64(18), int64(1), object(9)\n",
      "memory usage: 209.0+ KB\n"
     ]
    }
   ],
   "source": [
    "# Import libraries and own functions\n",
    "import os\n",
    "import shutil\n",
    "import re\n",
    "import pandas as pd\n",
    "import win32con, win32api, os\n",
    "\n",
    "from save_data import save_csv, save_xlsx\n",
    "\n",
    "# Files & folder names\n",
    "# server-path\n",
    "main_path = 'Z:\\\\Projects\\\\РФФИ-Норвегия\\\\Данные\\\\Экспериментальные данные в лаборатории\\\\Droplet freezing facility data\\\\Generating droplets'\n",
    "\n",
    "# server-like folder path\n",
    "loc_path = 'C:\\\\Users\\\\M.Vulf\\\\Desktop\\\\_Generating droplets'\n",
    "\n",
    "# new data folder. !!! CHANGE THIS for NEW FOLDER\n",
    "new_data_path = 'C:\\\\Users\\\\M.Vulf\\\\Desktop\\\\_parametric_experiment'\n",
    "\n",
    "# new protocol name. !!! CHANGE THIS for NEW PROTOCOL\n",
    "prot_name = 'Protocol_Parametric map.xlsx'\n",
    "\n",
    "# folder for saving videos\n",
    "video_folder = 'VIDEO_DATA'\n",
    "\n",
    "# Generating data name\n",
    "data_name = 'GENERATING_DATA.csv'\n",
    "xlsx_name = 'GENERATING_DATA.xlsx'\n",
    "\n",
    "main_df = pd.read_csv(os.path.join(main_path, data_name))\n",
    "main_df.info()"
   ]
  },
  {
   "cell_type": "markdown",
   "metadata": {},
   "source": [
    "### Rename tests in protocol and video"
   ]
  },
  {
   "cell_type": "code",
   "execution_count": 2,
   "metadata": {},
   "outputs": [
    {
     "name": "stdout",
     "output_type": "stream",
     "text": [
      "Last test: # 278\n",
      "<class 'pandas.core.frame.DataFrame'>\n",
      "RangeIndex: 713 entries, 0 to 712\n",
      "Data columns (total 27 columns):\n",
      " #   Column                    Non-Null Count  Dtype  \n",
      "---  ------                    --------------  -----  \n",
      " 0   test                      713 non-null    int64  \n",
      " 1   crop                      713 non-null    int64  \n",
      " 2   test_type                 713 non-null    object \n",
      " 3   voltage                   705 non-null    float64\n",
      " 4   pressure                  705 non-null    float64\n",
      " 5   impulse_time              705 non-null    float64\n",
      " 6   needle                    705 non-null    object \n",
      " 7   nozzle                    705 non-null    object \n",
      " 8   distance                  0 non-null      float64\n",
      " 9   calibrat_test             705 non-null    float64\n",
      " 10  record_rate               705 non-null    float64\n",
      " 11  comments                  127 non-null    object \n",
      " 12  experiment_date           713 non-null    object \n",
      " 13  tester                    713 non-null    object \n",
      " 14  video                     713 non-null    object \n",
      " 15  pixel_size                713 non-null    float64\n",
      " 16  old_flow_type             710 non-null    object \n",
      " 17  old_droplet_size          152 non-null    float64\n",
      " 18  droplet_count             694 non-null    float64\n",
      " 19  flow_type                 694 non-null    object \n",
      " 20  droplet_size              543 non-null    float64\n",
      " 21  sigma_droplet_size        543 non-null    float64\n",
      " 22  starting_velocity         543 non-null    float64\n",
      " 23  ending_velocity           543 non-null    float64\n",
      " 24  fall_time                 229 non-null    float64\n",
      " 25  vertical_path             229 non-null    float64\n",
      " 26  max_horizontal_deviation  229 non-null    float64\n",
      "dtypes: float64(16), int64(2), object(9)\n",
      "memory usage: 150.5+ KB\n",
      "None\n",
      "<class 'pandas.core.frame.DataFrame'>\n",
      "RangeIndex: 242 entries, 0 to 241\n",
      "Data columns (total 14 columns):\n",
      " #   Column           Non-Null Count  Dtype         \n",
      "---  ------           --------------  -----         \n",
      " 0   test             242 non-null    int64         \n",
      " 1   test_type        242 non-null    object        \n",
      " 2   voltage          240 non-null    float64       \n",
      " 3   pressure         240 non-null    float64       \n",
      " 4   impulse_time     240 non-null    float64       \n",
      " 5   impulse_count    240 non-null    float64       \n",
      " 6   needle           240 non-null    object        \n",
      " 7   nozzle           240 non-null    object        \n",
      " 8   distance         0 non-null      float64       \n",
      " 9   calibrat_test    240 non-null    float64       \n",
      " 10  record_rate      242 non-null    int64         \n",
      " 11  comments         242 non-null    object        \n",
      " 12  experiment_date  242 non-null    datetime64[ns]\n",
      " 13  tester           242 non-null    object        \n",
      "dtypes: datetime64[ns](1), float64(6), int64(2), object(5)\n",
      "memory usage: 26.6+ KB\n",
      "None\n",
      "<class 'pandas.core.frame.DataFrame'>\n",
      "RangeIndex: 7 entries, 0 to 6\n",
      "Data columns (total 10 columns):\n",
      " #   Column                 Non-Null Count  Dtype  \n",
      "---  ------                 --------------  -----  \n",
      " 0   Common characteristic  0 non-null      float64\n",
      " 1   Value                  0 non-null      float64\n",
      " 2   All Testers            3 non-null      object \n",
      " 3   Testers E-mail         3 non-null      object \n",
      " 4   Test types             4 non-null      object \n",
      " 5   Test description       4 non-null      object \n",
      " 6   Needle types           7 non-null      object \n",
      " 7   Needle description     7 non-null      object \n",
      " 8   Nozzle numbers         2 non-null      object \n",
      " 9   Nozzle description     0 non-null      float64\n",
      "dtypes: float64(3), object(7)\n",
      "memory usage: 688.0+ bytes\n",
      "None\n"
     ]
    },
    {
     "name": "stderr",
     "output_type": "stream",
     "text": [
      "C:\\Users\\M.Vulf\\AppData\\Local\\Packages\\PythonSoftwareFoundation.Python.3.9_qbz5n2kfra8p0\\LocalCache\\local-packages\\Python39\\site-packages\\openpyxl\\worksheet\\_reader.py:312: UserWarning: Data Validation extension is not supported and will be removed\n",
      "  warn(msg)\n"
     ]
    }
   ],
   "source": [
    "# Import & preparing dataframes\n",
    "prot_df = pd.read_excel(os.path.join(new_data_path, prot_name))\n",
    "\n",
    "# get addititional df\n",
    "adit_df = pd.read_excel(os.path.join(new_data_path, prot_name), sheet_name=1)\n",
    "# rename columns\n",
    "prot_df.columns = ['test', 'test_type', 'voltage', 'pressure',\n",
    "       'impulse_time','impulse_count', 'needle', 'nozzle', 'distance',\n",
    "       'calibrat_test', 'record_rate', 'comments', 'experiment_date',\n",
    "       'tester']\n",
    "\n",
    "\n",
    "last_test_num = main_df['test'].max()\n",
    "print('Last test: #', last_test_num)\n",
    "# data info\n",
    "print(main_df.info())\n",
    "print(prot_df.info())\n",
    "print(adit_df.info())"
   ]
  },
  {
   "cell_type": "code",
   "execution_count": 3,
   "metadata": {},
   "outputs": [],
   "source": [
    "# CREATE DICTIONARY OF FILES WITH TEST NUM\n",
    "# pattern of test-files\n",
    "pattern = re.compile('\\d*_\\w*.\\w*') \n",
    "# list of selected files\n",
    "selected_files_dict = {}\n",
    "# get names dictionary\n",
    "for root, dirs, files in os.walk(new_data_path):\n",
    "    for file in files:\n",
    "        research_result = re.match(pattern, file)\n",
    "        if research_result:\n",
    "            # get it's number\n",
    "            number = int(research_result[0].split('_')[0])\n",
    "            # add file to dict\n",
    "            if not number in selected_files_dict:\n",
    "                selected_files_dict[number] = [research_result[0]]\n",
    "            else:\n",
    "                selected_files_dict[number].append(research_result[0])\n",
    "\n",
    "# RENAME TESTS AND COPY FILES\n",
    "def rename_tests(row):\n",
    "    # Change test name & calibr name\n",
    "    prot_num = row['test']\n",
    "    row['test'] = prot_num + last_test_num\n",
    "    if row['calibrat_test']:\n",
    "        row['calibrat_test'] = row['calibrat_test'] + last_test_num\n",
    "    # Copy video with new name\n",
    "    for file in selected_files_dict[prot_num]:\n",
    "        source = os.path.join(new_data_path, file)\n",
    "        new_name = \"{:04d}_\".format(row['test']) + '_'.join(file.split('_')[1:])\n",
    "        destination = os.path.join(loc_path, video_folder, new_name)\n",
    "        # print(source, \":\", destination)\n",
    "        shutil.copyfile(source, destination)\n",
    "    return row\n",
    "\n",
    "prot_df = prot_df.apply(rename_tests, axis=1)\n",
    "\n",
    "# SAVE RESULTS\n",
    "prot_df['experiment_date'] = prot_df['experiment_date'].dt.date\n",
    "prot_df.to_excel(os.path.join(loc_path, '2021-11-16_Protocol_Parametric map.xlsx'), index=False)"
   ]
  },
  {
   "cell_type": "markdown",
   "metadata": {},
   "source": [
    "### Add protocol data to GENERATING DATA"
   ]
  },
  {
   "cell_type": "code",
   "execution_count": 2,
   "metadata": {},
   "outputs": [
    {
     "name": "stdout",
     "output_type": "stream",
     "text": [
      "<class 'pandas.core.frame.DataFrame'>\n",
      "RangeIndex: 242 entries, 0 to 241\n",
      "Data columns (total 14 columns):\n",
      " #   Column           Non-Null Count  Dtype         \n",
      "---  ------           --------------  -----         \n",
      " 0   test             242 non-null    int64         \n",
      " 1   test_type        242 non-null    object        \n",
      " 2   voltage          240 non-null    float64       \n",
      " 3   pressure         240 non-null    float64       \n",
      " 4   impulse_time     240 non-null    float64       \n",
      " 5   impulse_count    240 non-null    float64       \n",
      " 6   needle           240 non-null    object        \n",
      " 7   nozzle           240 non-null    object        \n",
      " 8   distance         0 non-null      float64       \n",
      " 9   calibrat_test    240 non-null    float64       \n",
      " 10  record_rate      242 non-null    int64         \n",
      " 11  comments         242 non-null    object        \n",
      " 12  experiment_date  242 non-null    datetime64[ns]\n",
      " 13  tester           242 non-null    object        \n",
      "dtypes: datetime64[ns](1), float64(6), int64(2), object(5)\n",
      "memory usage: 26.6+ KB\n"
     ]
    }
   ],
   "source": [
    "# read new protocol\n",
    "new_prot_name = '2021-11-16_Protocol_Parametric map.xlsx'\n",
    "prot_df = pd.read_excel(os.path.join(loc_path, new_prot_name))\n",
    "prot_df.info()"
   ]
  },
  {
   "cell_type": "code",
   "execution_count": 3,
   "metadata": {},
   "outputs": [
    {
     "name": "stdout",
     "output_type": "stream",
     "text": [
      "<class 'pandas.core.frame.DataFrame'>\n",
      "RangeIndex: 1197 entries, 0 to 1196\n",
      "Data columns (total 28 columns):\n",
      " #   Column                    Non-Null Count  Dtype  \n",
      "---  ------                    --------------  -----  \n",
      " 0   test                      1197 non-null   int64  \n",
      " 1   crop                      1197 non-null   float64\n",
      " 2   test_type                 1197 non-null   object \n",
      " 3   voltage                   1185 non-null   float64\n",
      " 4   pressure                  1185 non-null   float64\n",
      " 5   impulse_time              1185 non-null   float64\n",
      " 6   needle                    1185 non-null   object \n",
      " 7   nozzle                    1185 non-null   object \n",
      " 8   distance                  0 non-null      float64\n",
      " 9   calibrat_test             1185 non-null   float64\n",
      " 10  record_rate               1189 non-null   float64\n",
      " 11  comments                  611 non-null    object \n",
      " 12  experiment_date           1197 non-null   object \n",
      " 13  tester                    1197 non-null   object \n",
      " 14  video                     713 non-null    object \n",
      " 15  pixel_size                955 non-null    float64\n",
      " 16  old_flow_type             710 non-null    object \n",
      " 17  old_droplet_size          152 non-null    float64\n",
      " 18  droplet_count             694 non-null    float64\n",
      " 19  flow_type                 694 non-null    object \n",
      " 20  droplet_size              543 non-null    float64\n",
      " 21  sigma_droplet_size        543 non-null    float64\n",
      " 22  starting_velocity         543 non-null    float64\n",
      " 23  ending_velocity           543 non-null    float64\n",
      " 24  fall_time                 229 non-null    float64\n",
      " 25  vertical_path             229 non-null    float64\n",
      " 26  max_horizontal_deviation  229 non-null    float64\n",
      " 27  impulse_count             480 non-null    float64\n",
      "dtypes: float64(18), int64(1), object(9)\n",
      "memory usage: 262.0+ KB\n"
     ]
    }
   ],
   "source": [
    "# add protocol data to GENERATING DATA\n",
    "main_df = main_df.append(prot_df, ignore_index=True)\n",
    "# fill crop = 0 for new tests\n",
    "main_df.loc[main_df['crop'].isna(),'crop'] = 0\n",
    "main_df.info()"
   ]
  },
  {
   "cell_type": "code",
   "execution_count": 2,
   "metadata": {},
   "outputs": [
    {
     "data": {
      "text/html": [
       "<div>\n",
       "<style scoped>\n",
       "    .dataframe tbody tr th:only-of-type {\n",
       "        vertical-align: middle;\n",
       "    }\n",
       "\n",
       "    .dataframe tbody tr th {\n",
       "        vertical-align: top;\n",
       "    }\n",
       "\n",
       "    .dataframe thead th {\n",
       "        text-align: right;\n",
       "    }\n",
       "</style>\n",
       "<table border=\"1\" class=\"dataframe\">\n",
       "  <thead>\n",
       "    <tr style=\"text-align: right;\">\n",
       "      <th></th>\n",
       "      <th>test</th>\n",
       "      <th>pixel_size</th>\n",
       "    </tr>\n",
       "  </thead>\n",
       "  <tbody>\n",
       "    <tr>\n",
       "      <th>0</th>\n",
       "      <td>28</td>\n",
       "      <td>24.20</td>\n",
       "    </tr>\n",
       "    <tr>\n",
       "      <th>17</th>\n",
       "      <td>32</td>\n",
       "      <td>24.13</td>\n",
       "    </tr>\n",
       "    <tr>\n",
       "      <th>113</th>\n",
       "      <td>61</td>\n",
       "      <td>22.04</td>\n",
       "    </tr>\n",
       "    <tr>\n",
       "      <th>165</th>\n",
       "      <td>79</td>\n",
       "      <td>21.65</td>\n",
       "    </tr>\n",
       "    <tr>\n",
       "      <th>221</th>\n",
       "      <td>109</td>\n",
       "      <td>21.72</td>\n",
       "    </tr>\n",
       "    <tr>\n",
       "      <th>316</th>\n",
       "      <td>142</td>\n",
       "      <td>21.73</td>\n",
       "    </tr>\n",
       "    <tr>\n",
       "      <th>419</th>\n",
       "      <td>178</td>\n",
       "      <td>21.94</td>\n",
       "    </tr>\n",
       "    <tr>\n",
       "      <th>529</th>\n",
       "      <td>214</td>\n",
       "      <td>21.61</td>\n",
       "    </tr>\n",
       "    <tr>\n",
       "      <th>713</th>\n",
       "      <td>279</td>\n",
       "      <td>20.75</td>\n",
       "    </tr>\n",
       "    <tr>\n",
       "      <th>774</th>\n",
       "      <td>340</td>\n",
       "      <td>21.08</td>\n",
       "    </tr>\n",
       "  </tbody>\n",
       "</table>\n",
       "</div>"
      ],
      "text/plain": [
       "     test  pixel_size\n",
       "0      28       24.20\n",
       "17     32       24.13\n",
       "113    61       22.04\n",
       "165    79       21.65\n",
       "221   109       21.72\n",
       "316   142       21.73\n",
       "419   178       21.94\n",
       "529   214       21.61\n",
       "713   279       20.75\n",
       "774   340       21.08"
      ]
     },
     "metadata": {},
     "output_type": "display_data"
    }
   ],
   "source": [
    "# get pixel_sizes\n",
    "calibr_values = main_df[(main_df['test_type']=='calibrat')][['test','pixel_size']]\n",
    "display(calibr_values)"
   ]
  },
  {
   "cell_type": "code",
   "execution_count": 3,
   "metadata": {},
   "outputs": [],
   "source": [
    "# add pixel size to each test\n",
    "def fill_pixel_size(row):\n",
    "    if row['test_type']=='calibrat':\n",
    "        return row\n",
    "    row['pixel_size'] = calibr_values[calibr_values['test']==row['calibrat_test']]['pixel_size'].values[0]\n",
    "    return row\n",
    "\n",
    "# Was pixel sizes\n",
    "main_df = main_df.apply(fill_pixel_size,axis=1)"
   ]
  },
  {
   "cell_type": "code",
   "execution_count": 4,
   "metadata": {},
   "outputs": [],
   "source": [
    "# add video-format\n",
    "main_df.loc[main_df['test']>=279,'video'] = 'avi'"
   ]
  },
  {
   "cell_type": "code",
   "execution_count": 5,
   "metadata": {},
   "outputs": [
    {
     "name": "stdout",
     "output_type": "stream",
     "text": [
      "Are you sure you want to write this DataFrame to main DataBase? Print 'yes'\n",
      "2021-11-18#1648 GENERATING_DATA.csv\n",
      "Are you sure you want to write this DataFrame to Excel-file? Print 'yes'\n"
     ]
    },
    {
     "data": {
      "text/plain": [
       "'Done'"
      ]
     },
     "execution_count": 5,
     "metadata": {},
     "output_type": "execute_result"
    }
   ],
   "source": [
    "# SAVE IN CSV \n",
    "save_name = data_name\n",
    "save_csv(main_df,main_path, save_name)\n",
    "# SAVE IN XLSX \n",
    "save_name = xlsx_name\n",
    "save_xlsx(main_df,main_path, xlsx_name)"
   ]
  }
 ],
 "metadata": {
  "interpreter": {
   "hash": "b3ba2566441a7c06988d0923437866b63cedc61552a5af99d1f4fb67d367b25f"
  },
  "kernelspec": {
   "display_name": "Python 3.8.10 64-bit ('base': conda)",
   "name": "python3"
  },
  "language_info": {
   "codemirror_mode": {
    "name": "ipython",
    "version": 3
   },
   "file_extension": ".py",
   "mimetype": "text/x-python",
   "name": "python",
   "nbconvert_exporter": "python",
   "pygments_lexer": "ipython3",
   "version": "3.9.9"
  },
  "orig_nbformat": 4
 },
 "nbformat": 4,
 "nbformat_minor": 2
}
