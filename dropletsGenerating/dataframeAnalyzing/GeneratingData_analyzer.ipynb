{
 "cells": [
  {
   "cell_type": "markdown",
   "metadata": {},
   "source": [
    "## STARTING CODE"
   ]
  },
  {
   "cell_type": "code",
   "execution_count": 1,
   "metadata": {},
   "outputs": [],
   "source": [
    "# IMPORT STANDART LIBRARIES\n",
    "import os\n",
    "import re\n",
    "import pandas as pd\n",
    "import numpy as np\n",
    "import math\n",
    "import matplotlib.pyplot as plt\n",
    "from matplotlib.ticker import (AutoMinorLocator, MultipleLocator)\n",
    "import seaborn as sns\n",
    "from IPython.display import display\n",
    "\n",
    "import win32con, win32api, os\n",
    "\n",
    "import warnings; warnings.simplefilter('ignore')\n",
    "sns.set()\n",
    "\n",
    "# IMPORT OWN FUNCTIONS\n",
    "from save_data import save_csv, save_xlsx\n",
    "\n",
    "# FILES:\n",
    "# Root-folder path\n",
    "main_path = 'Z:\\\\Projects\\\\РФФИ-Норвегия\\\\Данные\\\\Экспериментальные данные в лаборатории\\\\Droplet freezing facility data\\\\Generating droplets'\n",
    "# Dataframe-name\n",
    "dataframe_name = 'GENERATING_DATA.csv'\n",
    "xlsx_name = 'GENERATING_DATA.xlsx'\n",
    "\n",
    "# name of folder containing videos\n",
    "video_folder = 'VIDEO_DATA'\n",
    "# cropped-results folder\n",
    "cropped_folder = 'cropping_results'\n",
    "# Cropping-folder path\n",
    "cropping_path = os.path.join(main_path, video_folder, cropped_folder)\n",
    "\n",
    "# Name of folder containing droplet properties\n",
    "imgproc_folder = 'IMAGE_PROCESSING_DATA'\n",
    "imgproc_path = os.path.join(main_path, imgproc_folder)\n",
    "\n",
    "# opening dataframes\n",
    "df = pd.read_csv(os.path.join(main_path, dataframe_name))\n",
    "\n",
    "# deleting \"Unnamed columns\"\n",
    "#df = df.loc[:,~df.columns.str.match(\"Unnamed\")]"
   ]
  },
  {
   "cell_type": "code",
   "execution_count": 4,
   "metadata": {},
   "outputs": [],
   "source": [
    "# add \"useful\" column\n",
    "df['useful'] = True"
   ]
  },
  {
   "cell_type": "code",
   "execution_count": null,
   "metadata": {},
   "outputs": [],
   "source": [
    "not_useful_list = [31, ]"
   ]
  },
  {
   "cell_type": "code",
   "execution_count": 9,
   "metadata": {},
   "outputs": [],
   "source": [
    "res = df[df['comments'].notna()]"
   ]
  },
  {
   "cell_type": "markdown",
   "metadata": {},
   "source": [
    "## Save results"
   ]
  },
  {
   "cell_type": "code",
   "execution_count": 2,
   "metadata": {},
   "outputs": [
    {
     "name": "stdout",
     "output_type": "stream",
     "text": [
      "Are you sure you want to write this DataFrame to main DataBase? Print 'yes'\n",
      "2021-11-02#1338 GENERATING_DATA.csv\n",
      "Are you sure you want to write this DataFrame to Excel-file? Print 'yes'\n"
     ]
    },
    {
     "data": {
      "text/plain": [
       "'Done'"
      ]
     },
     "execution_count": 2,
     "metadata": {},
     "output_type": "execute_result"
    }
   ],
   "source": [
    "# SAVE IN CSV \n",
    "save_name = dataframe_name\n",
    "save_csv(df,main_path, save_name)\n",
    "# SAVE IN XLSX \n",
    "save_name = xlsx_name\n",
    "save_xlsx(df,main_path, xlsx_name)"
   ]
  }
 ],
 "metadata": {
  "interpreter": {
   "hash": "83b9a617b8b4be5886ed6c653568835590c7def051a957552254019792cd311b"
  },
  "kernelspec": {
   "display_name": "Python 3.9.7 64-bit (windows store)",
   "name": "python3"
  },
  "language_info": {
   "codemirror_mode": {
    "name": "ipython",
    "version": 3
   },
   "file_extension": ".py",
   "mimetype": "text/x-python",
   "name": "python",
   "nbconvert_exporter": "python",
   "pygments_lexer": "ipython3",
   "version": "3.8.8"
  },
  "orig_nbformat": 4
 },
 "nbformat": 4,
 "nbformat_minor": 2
}
