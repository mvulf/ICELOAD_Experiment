{
 "cells": [
  {
   "cell_type": "markdown",
   "metadata": {},
   "source": [
    "## STARTING CODE"
   ]
  },
  {
   "cell_type": "code",
   "execution_count": 1,
   "metadata": {},
   "outputs": [],
   "source": [
    "# IMPORT STANDART LIBRARIES\n",
    "import os\n",
    "import re\n",
    "import pandas as pd\n",
    "import numpy as np\n",
    "import math\n",
    "import matplotlib.pyplot as plt\n",
    "from matplotlib.ticker import (AutoMinorLocator, MultipleLocator)\n",
    "import seaborn as sns\n",
    "from IPython.display import display\n",
    "\n",
    "import win32con, win32api, os\n",
    "\n",
    "import warnings; warnings.simplefilter('ignore')\n",
    "sns.set()\n",
    "\n",
    "# IMPORT OWN FUNCTIONS\n",
    "from save_data import save_csv, save_xlsx\n",
    "\n",
    "# FILES:\n",
    "# Root-folder path\n",
    "main_path = 'Z:\\\\Projects\\\\РФФИ-Норвегия\\\\Данные\\\\Экспериментальные данные в лаборатории\\\\Droplet freezing facility data\\\\Generating droplets'\n",
    "# Dataframe-name\n",
    "dataframe_name = 'GENERATING_DATA.csv'\n",
    "xlsx_name = 'GENERATING_DATA.xlsx'\n",
    "\n",
    "# name of folder containing videos\n",
    "video_folder = 'VIDEO_DATA'\n",
    "# cropped-results folder\n",
    "cropped_folder = 'cropping_results'\n",
    "# Cropping-folder path\n",
    "cropping_path = os.path.join(main_path, video_folder, cropped_folder)\n",
    "\n",
    "# Name of folder containing droplet properties\n",
    "imgproc_folder = 'IMAGE_PROCESSING_DATA'\n",
    "imgproc_path = os.path.join(main_path, imgproc_folder)\n",
    "\n",
    "# opening dataframes\n",
    "df = pd.read_csv(os.path.join(main_path, dataframe_name))\n",
    "\n",
    "# deleting \"Unnamed columns\"\n",
    "#df = df.loc[:,~df.columns.str.match(\"Unnamed\")]"
   ]
  },
  {
   "cell_type": "code",
   "execution_count": 13,
   "metadata": {},
   "outputs": [],
   "source": [
    "# Show largest droplets\n",
    "largest_drops_df = df[(df.pressure==1000)&(df.crop==0)&(df.needle=='N01-1')&(df.impulse_time==4000)&(df.droplet_size>0)].sort_values(['droplet_size'],ascending=False)[['test','crop','voltage','pressure','droplet_size','sigma_droplet_size','starting_velocity','comments']]"
   ]
  },
  {
   "cell_type": "markdown",
   "metadata": {},
   "source": [
    "## Save results"
   ]
  },
  {
   "cell_type": "code",
   "execution_count": 2,
   "metadata": {},
   "outputs": [
    {
     "name": "stdout",
     "output_type": "stream",
     "text": [
      "Are you sure you want to write this DataFrame to main DataBase? Print 'yes'\n",
      "2021-11-02#1338 GENERATING_DATA.csv\n",
      "Are you sure you want to write this DataFrame to Excel-file? Print 'yes'\n"
     ]
    },
    {
     "data": {
      "text/plain": [
       "'Done'"
      ]
     },
     "execution_count": 2,
     "metadata": {},
     "output_type": "execute_result"
    }
   ],
   "source": [
    "# SAVE IN CSV \n",
    "save_name = dataframe_name\n",
    "save_csv(df,main_path, save_name)\n",
    "# SAVE IN XLSX \n",
    "save_name = xlsx_name\n",
    "save_xlsx(df,main_path, xlsx_name)"
   ]
  },
  {
   "cell_type": "markdown",
   "metadata": {},
   "source": [
    "## Add columns from image_processing.csv"
   ]
  },
  {
   "cell_type": "markdown",
   "metadata": {},
   "source": [
    "#### Modify image_processing data before merging"
   ]
  },
  {
   "cell_type": "code",
   "execution_count": 2,
   "metadata": {},
   "outputs": [
    {
     "name": "stdout",
     "output_type": "stream",
     "text": [
      "<class 'pandas.core.frame.DataFrame'>\n",
      "Int64Index: 471 entries, 0 to 470\n",
      "Data columns (total 16 columns):\n",
      " #   Column               Non-Null Count  Dtype  \n",
      "---  ------               --------------  -----  \n",
      " 0   test                 471 non-null    int64  \n",
      " 1   crop                 471 non-null    int64  \n",
      " 2   autoFlowType         471 non-null    object \n",
      " 3   autoDropCount        471 non-null    int64  \n",
      " 4   pixDiameter          471 non-null    float64\n",
      " 5   sigmaPixDiameter     471 non-null    float64\n",
      " 6   startingPixVelocity  471 non-null    float64\n",
      " 7   endingPixVelocity    471 non-null    float64\n",
      " 8   pixel_size           471 non-null    float64\n",
      " 9   record_rate          471 non-null    float64\n",
      " 10  droplet_count        471 non-null    int64  \n",
      " 11  flow_type            471 non-null    object \n",
      " 12  droplet_size         471 non-null    float64\n",
      " 13  sigma_droplet_size   471 non-null    float64\n",
      " 14  starting_velocity    471 non-null    float64\n",
      " 15  ending_velocity      471 non-null    float64\n",
      "dtypes: float64(10), int64(4), object(2)\n",
      "memory usage: 62.6+ KB\n"
     ]
    },
    {
     "data": {
      "text/plain": [
       "None"
      ]
     },
     "metadata": {},
     "output_type": "display_data"
    },
    {
     "data": {
      "text/html": [
       "<div>\n",
       "<style scoped>\n",
       "    .dataframe tbody tr th:only-of-type {\n",
       "        vertical-align: middle;\n",
       "    }\n",
       "\n",
       "    .dataframe tbody tr th {\n",
       "        vertical-align: top;\n",
       "    }\n",
       "\n",
       "    .dataframe thead th {\n",
       "        text-align: right;\n",
       "    }\n",
       "</style>\n",
       "<table border=\"1\" class=\"dataframe\">\n",
       "  <thead>\n",
       "    <tr style=\"text-align: right;\">\n",
       "      <th></th>\n",
       "      <th>test</th>\n",
       "      <th>crop</th>\n",
       "      <th>droplet_count</th>\n",
       "      <th>flow_type</th>\n",
       "      <th>droplet_size</th>\n",
       "      <th>sigma_droplet_size</th>\n",
       "      <th>starting_velocity</th>\n",
       "      <th>ending_velocity</th>\n",
       "    </tr>\n",
       "  </thead>\n",
       "  <tbody>\n",
       "    <tr>\n",
       "      <th>0</th>\n",
       "      <td>29</td>\n",
       "      <td>5</td>\n",
       "      <td>1</td>\n",
       "      <td>single</td>\n",
       "      <td>1066.67</td>\n",
       "      <td>9.98</td>\n",
       "      <td>0.13734</td>\n",
       "      <td>0.70394</td>\n",
       "    </tr>\n",
       "    <tr>\n",
       "      <th>1</th>\n",
       "      <td>29</td>\n",
       "      <td>4</td>\n",
       "      <td>1</td>\n",
       "      <td>single</td>\n",
       "      <td>1084.20</td>\n",
       "      <td>12.11</td>\n",
       "      <td>0.02767</td>\n",
       "      <td>0.70474</td>\n",
       "    </tr>\n",
       "    <tr>\n",
       "      <th>2</th>\n",
       "      <td>29</td>\n",
       "      <td>3</td>\n",
       "      <td>1</td>\n",
       "      <td>single</td>\n",
       "      <td>1081.13</td>\n",
       "      <td>10.12</td>\n",
       "      <td>0.07925</td>\n",
       "      <td>0.70379</td>\n",
       "    </tr>\n",
       "    <tr>\n",
       "      <th>3</th>\n",
       "      <td>29</td>\n",
       "      <td>2</td>\n",
       "      <td>1</td>\n",
       "      <td>single</td>\n",
       "      <td>1078.71</td>\n",
       "      <td>16.33</td>\n",
       "      <td>0.12760</td>\n",
       "      <td>0.70719</td>\n",
       "    </tr>\n",
       "    <tr>\n",
       "      <th>4</th>\n",
       "      <td>29</td>\n",
       "      <td>1</td>\n",
       "      <td>1</td>\n",
       "      <td>single</td>\n",
       "      <td>1077.44</td>\n",
       "      <td>19.23</td>\n",
       "      <td>0.11012</td>\n",
       "      <td>0.71214</td>\n",
       "    </tr>\n",
       "  </tbody>\n",
       "</table>\n",
       "</div>"
      ],
      "text/plain": [
       "   test  crop  droplet_count flow_type  droplet_size  sigma_droplet_size  \\\n",
       "0    29     5              1    single       1066.67                9.98   \n",
       "1    29     4              1    single       1084.20               12.11   \n",
       "2    29     3              1    single       1081.13               10.12   \n",
       "3    29     2              1    single       1078.71               16.33   \n",
       "4    29     1              1    single       1077.44               19.23   \n",
       "\n",
       "   starting_velocity  ending_velocity  \n",
       "0            0.13734          0.70394  \n",
       "1            0.02767          0.70474  \n",
       "2            0.07925          0.70379  \n",
       "3            0.12760          0.70719  \n",
       "4            0.11012          0.71214  "
      ]
     },
     "metadata": {},
     "output_type": "display_data"
    }
   ],
   "source": [
    "# Create calibration df\n",
    "calibrat_df = df[df['test_type']!='calibrat'][['test','pixel_size','record_rate']]\n",
    "# calibrat_df.info()\n",
    "# Read image processing df\n",
    "im_proc_df = pd.read_csv(os.path.join(main_path,'IMAGE_PROCESSING_DATA','image_processing.csv'))\n",
    "# im_proc_df.info()\n",
    "# Merge improc and calibr dataframes\n",
    "im_proc_df = im_proc_df.merge(calibrat_df, how='left',on='test')\n",
    "# Getting new columns\n",
    "im_proc_df['droplet_count'] = round(im_proc_df['autoDropCount'])\n",
    "im_proc_df['flow_type'] = im_proc_df['autoFlowType'].str.lower()\n",
    "im_proc_df['droplet_size'] = round(im_proc_df['pixDiameter']*im_proc_df['pixel_size'],2)\n",
    "im_proc_df['sigma_droplet_size'] = round(im_proc_df['sigmaPixDiameter']*im_proc_df['pixel_size'],2)\n",
    "im_proc_df['starting_velocity'] = round(im_proc_df['startingPixVelocity']*im_proc_df['pixel_size']*1e-6*im_proc_df['record_rate'],5)\n",
    "im_proc_df['ending_velocity'] = round(im_proc_df['endingPixVelocity']*im_proc_df['pixel_size']*1e-6*im_proc_df['record_rate'],5)\n",
    "display(im_proc_df.info())\n",
    "# take necessary part of image processing df\n",
    "part_im_proc_df = im_proc_df[['test', 'crop', 'droplet_count', 'flow_type', 'droplet_size', 'sigma_droplet_size', 'starting_velocity', 'ending_velocity']]\n",
    "display(part_im_proc_df.head())"
   ]
  },
  {
   "cell_type": "markdown",
   "metadata": {},
   "source": [
    "#### Merge image processing results with generating data"
   ]
  },
  {
   "cell_type": "code",
   "execution_count": null,
   "metadata": {},
   "outputs": [],
   "source": [
    "merge_df = df.merge(part_im_proc_df, how='outer',on=['test','crop'])\n",
    "# Filling of crops-NaN parameters (pressure, voltage, etc)\n",
    "full_df = pd.DataFrame(columns=merge_df.columns)\n",
    "for testNum in df['test'].unique():\n",
    "    full_df = full_df.append(merge_df[merge_df['test']==testNum].fillna(axis=0,method='ffill'),ignore_index=True)\n",
    "full_df.sort_values(by=['test','crop'],inplace=True)\n",
    "full_df.info()\n",
    "\n",
    "# SAVE IN CSV \n",
    "save_name = dataframe_name\n",
    "save_csv(full_df,main_path, save_name)\n",
    "# SAVE IN XLSX \n",
    "save_name = xlsx_name\n",
    "save_xlsx(full_df,main_path, xlsx_name)"
   ]
  },
  {
   "cell_type": "markdown",
   "metadata": {},
   "source": [
    "## Get analyzed columns from imgproc_detailed.csv and get median values\n",
    "**imgproc_detailed.csv** recieved after using **imgproc_analyzer.ipynb**"
   ]
  },
  {
   "cell_type": "markdown",
   "metadata": {},
   "source": [
    "#### Get characteristics from improc_df (detailed)"
   ]
  },
  {
   "cell_type": "code",
   "execution_count": 3,
   "metadata": {},
   "outputs": [
    {
     "name": "stdout",
     "output_type": "stream",
     "text": [
      "<class 'pandas.core.frame.DataFrame'>\n",
      "RangeIndex: 8555 entries, 0 to 8554\n",
      "Data columns (total 14 columns):\n",
      " #   Column        Non-Null Count  Dtype  \n",
      "---  ------        --------------  -----  \n",
      " 0   test          8555 non-null   float64\n",
      " 1   crop          8555 non-null   float64\n",
      " 2   frameNum      8555 non-null   float64\n",
      " 3   y_pix         8555 non-null   float64\n",
      " 4   x_pix         8555 non-null   float64\n",
      " 5   diameter_pix  8555 non-null   float64\n",
      " 6   area_pix      8555 non-null   float64\n",
      " 7   pixel_size    8555 non-null   float64\n",
      " 8   record_rate   8555 non-null   float64\n",
      " 9   time          8555 non-null   float64\n",
      " 10  y             8555 non-null   float64\n",
      " 11  x             8555 non-null   float64\n",
      " 12  del_y         8555 non-null   float64\n",
      " 13  del_x         8555 non-null   float64\n",
      "dtypes: float64(14)\n",
      "memory usage: 935.8 KB\n"
     ]
    }
   ],
   "source": [
    "improc_df = pd.read_csv(os.path.join(imgproc_path,'0029-0277_imgproc_detailed.csv'))\n",
    "improc_df.info()"
   ]
  },
  {
   "cell_type": "code",
   "execution_count": 4,
   "metadata": {},
   "outputs": [
    {
     "data": {
      "text/html": [
       "<div>\n",
       "<style scoped>\n",
       "    .dataframe tbody tr th:only-of-type {\n",
       "        vertical-align: middle;\n",
       "    }\n",
       "\n",
       "    .dataframe tbody tr th {\n",
       "        vertical-align: top;\n",
       "    }\n",
       "\n",
       "    .dataframe thead th {\n",
       "        text-align: right;\n",
       "    }\n",
       "</style>\n",
       "<table border=\"1\" class=\"dataframe\">\n",
       "  <thead>\n",
       "    <tr style=\"text-align: right;\">\n",
       "      <th></th>\n",
       "      <th>droplet_size</th>\n",
       "      <th>sigma_droplet_size</th>\n",
       "      <th>starting_velocity</th>\n",
       "      <th>ending_velocity</th>\n",
       "      <th>fall_time</th>\n",
       "      <th>vertical_path</th>\n",
       "      <th>max_horizontal_deviation</th>\n",
       "    </tr>\n",
       "  </thead>\n",
       "  <tbody>\n",
       "    <tr>\n",
       "      <th>count</th>\n",
       "      <td>229.000000</td>\n",
       "      <td>229.000000</td>\n",
       "      <td>229.000000</td>\n",
       "      <td>229.000000</td>\n",
       "      <td>157.000000</td>\n",
       "      <td>157.000000</td>\n",
       "      <td>157.000000</td>\n",
       "    </tr>\n",
       "    <tr>\n",
       "      <th>mean</th>\n",
       "      <td>983.809410</td>\n",
       "      <td>21.320611</td>\n",
       "      <td>0.203545</td>\n",
       "      <td>0.699686</td>\n",
       "      <td>0.054118</td>\n",
       "      <td>24.614656</td>\n",
       "      <td>0.516654</td>\n",
       "    </tr>\n",
       "    <tr>\n",
       "      <th>std</th>\n",
       "      <td>367.646499</td>\n",
       "      <td>14.754176</td>\n",
       "      <td>0.098630</td>\n",
       "      <td>0.087537</td>\n",
       "      <td>0.007519</td>\n",
       "      <td>2.430278</td>\n",
       "      <td>0.366752</td>\n",
       "    </tr>\n",
       "    <tr>\n",
       "      <th>min</th>\n",
       "      <td>0.000000</td>\n",
       "      <td>0.000000</td>\n",
       "      <td>-0.012510</td>\n",
       "      <td>0.000000</td>\n",
       "      <td>0.020000</td>\n",
       "      <td>17.833681</td>\n",
       "      <td>0.010343</td>\n",
       "    </tr>\n",
       "    <tr>\n",
       "      <th>25%</th>\n",
       "      <td>772.600000</td>\n",
       "      <td>9.430000</td>\n",
       "      <td>0.167850</td>\n",
       "      <td>0.688370</td>\n",
       "      <td>0.051000</td>\n",
       "      <td>22.610478</td>\n",
       "      <td>0.252259</td>\n",
       "    </tr>\n",
       "    <tr>\n",
       "      <th>50%</th>\n",
       "      <td>947.010000</td>\n",
       "      <td>17.610000</td>\n",
       "      <td>0.204490</td>\n",
       "      <td>0.718970</td>\n",
       "      <td>0.055000</td>\n",
       "      <td>25.743053</td>\n",
       "      <td>0.381990</td>\n",
       "    </tr>\n",
       "    <tr>\n",
       "      <th>75%</th>\n",
       "      <td>1046.455000</td>\n",
       "      <td>29.195000</td>\n",
       "      <td>0.241680</td>\n",
       "      <td>0.734510</td>\n",
       "      <td>0.058000</td>\n",
       "      <td>26.456063</td>\n",
       "      <td>0.751766</td>\n",
       "    </tr>\n",
       "    <tr>\n",
       "      <th>max</th>\n",
       "      <td>2097.310000</td>\n",
       "      <td>76.820000</td>\n",
       "      <td>0.995950</td>\n",
       "      <td>1.118580</td>\n",
       "      <td>0.075000</td>\n",
       "      <td>27.620478</td>\n",
       "      <td>1.461842</td>\n",
       "    </tr>\n",
       "  </tbody>\n",
       "</table>\n",
       "</div>"
      ],
      "text/plain": [
       "       droplet_size  sigma_droplet_size  starting_velocity  ending_velocity  \\\n",
       "count    229.000000          229.000000         229.000000       229.000000   \n",
       "mean     983.809410           21.320611           0.203545         0.699686   \n",
       "std      367.646499           14.754176           0.098630         0.087537   \n",
       "min        0.000000            0.000000          -0.012510         0.000000   \n",
       "25%      772.600000            9.430000           0.167850         0.688370   \n",
       "50%      947.010000           17.610000           0.204490         0.718970   \n",
       "75%     1046.455000           29.195000           0.241680         0.734510   \n",
       "max     2097.310000           76.820000           0.995950         1.118580   \n",
       "\n",
       "        fall_time  vertical_path  max_horizontal_deviation  \n",
       "count  157.000000     157.000000                157.000000  \n",
       "mean     0.054118      24.614656                  0.516654  \n",
       "std      0.007519       2.430278                  0.366752  \n",
       "min      0.020000      17.833681                  0.010343  \n",
       "25%      0.051000      22.610478                  0.252259  \n",
       "50%      0.055000      25.743053                  0.381990  \n",
       "75%      0.058000      26.456063                  0.751766  \n",
       "max      0.075000      27.620478                  1.461842  "
      ]
     },
     "metadata": {},
     "output_type": "display_data"
    }
   ],
   "source": [
    "# function of getting characteristics from improc_df\n",
    "'''\n",
    "    fill_df = pd.DataFrame(columns = df.columns)\n",
    "    fill_df['fall_time'] = None\n",
    "    fill_df['vertical_path'] = None\n",
    "    fill_df['max_horizontal_deviation'] = None\n",
    "'''\n",
    "df['fall_time'] = None\n",
    "df['vertical_path'] = None\n",
    "df['max_horizontal_deviation'] = None\n",
    "\n",
    "def get_improc_params(row):\n",
    "    # analyze only Single-droplets rows\n",
    "    if row['droplet_count'] != 1:\n",
    "        return row\n",
    "    # time in seconds\n",
    "    row['fall_time'] = improc_df[(improc_df['test']==row['test'])&(improc_df['crop']==row['crop'])]['time'].max()\n",
    "    # path and deviation in mm\n",
    "    row['vertical_path'] = improc_df[(improc_df['test']==row['test'])&(improc_df['crop']==row['crop'])]['del_y'].max()\n",
    "    row['max_horizontal_deviation'] = improc_df[(improc_df['test']==row['test'])&(improc_df['crop']==row['crop'])]['del_x'].apply(abs).max()   \n",
    "    return row\n",
    "\n",
    "df = df.apply(get_improc_params, axis=1)\n",
    "display(df[df['droplet_count']==1][['droplet_size','sigma_droplet_size',\n",
    "'starting_velocity','ending_velocity','fall_time','vertical_path', 'max_horizontal_deviation']].describe())"
   ]
  },
  {
   "cell_type": "markdown",
   "metadata": {},
   "source": [
    "#### Get median values for \"crop 0\" of single droplets"
   ]
  },
  {
   "cell_type": "code",
   "execution_count": 5,
   "metadata": {},
   "outputs": [],
   "source": [
    "def get_median_crop_params(row):\n",
    "    if row['crop'] != 0:\n",
    "        return row\n",
    "    # get drop count\n",
    "    mean_value = df[(df['test']==row['test'])&(improc_df['crop']!=row['crop'])]['droplet_count'].mean()\n",
    "    if ~np.isnan(mean_value):\n",
    "        if mean_value == 0:\n",
    "            row['droplet_count'] = 0\n",
    "        elif mean_value < 2:\n",
    "            row['droplet_count'] = 1\n",
    "        else:\n",
    "            row['droplet_count'] = math.floor(mean_value)\n",
    "\n",
    "    # add flow_type\n",
    "    if row['droplet_count'] == 0:\n",
    "        row['flow_type'] = 'no'\n",
    "    elif row['droplet_count'] == 1:\n",
    "        row['flow_type'] = 'single'\n",
    "    elif row['droplet_count'] <= 4:\n",
    "        row['flow_type'] = 'multi'\n",
    "    elif row['droplet_count'] > 4:\n",
    "        row['flow_type'] = 'jet'\n",
    "\n",
    "    # get median characteristics\n",
    "    if row['droplet_count'] == 1:\n",
    "        values = df[(df['test']==row['test'])&(improc_df['crop']!=row['crop'])][['droplet_size','sigma_droplet_size','starting_velocity','ending_velocity', 'fall_time','vertical_path','max_horizontal_deviation']]\n",
    "        if df[(df['test']==row['test'])&(improc_df['crop']!=row['crop'])]['droplet_size'].median() > 0:\n",
    "            row[['droplet_size','sigma_droplet_size','starting_velocity','ending_velocity', 'fall_time','vertical_path','max_horizontal_deviation']] = values.mean()\n",
    "        else:\n",
    "            row[['droplet_size','sigma_droplet_size','starting_velocity','ending_velocity', 'fall_time','vertical_path','max_horizontal_deviation']] = values.max()\n",
    "\n",
    "        \n",
    "    return row\n",
    "\n",
    "df = df.apply(get_median_crop_params, axis=1)\n"
   ]
  },
  {
   "cell_type": "code",
   "execution_count": 6,
   "metadata": {},
   "outputs": [
    {
     "name": "stdout",
     "output_type": "stream",
     "text": [
      "Are you sure you want to write this DataFrame to main DataBase? Print 'yes'\n",
      "2021-11-03#1331 GENERATING_DATA.csv\n",
      "Are you sure you want to write this DataFrame to Excel-file? Print 'yes'\n"
     ]
    },
    {
     "data": {
      "text/plain": [
       "'Done'"
      ]
     },
     "execution_count": 6,
     "metadata": {},
     "output_type": "execute_result"
    }
   ],
   "source": [
    "# SAVE IN CSV \n",
    "save_name = dataframe_name\n",
    "save_csv(df,main_path, save_name)\n",
    "# SAVE IN XLSX \n",
    "save_name = xlsx_name\n",
    "save_xlsx(df,main_path, xlsx_name)"
   ]
  }
 ],
 "metadata": {
  "interpreter": {
   "hash": "83b9a617b8b4be5886ed6c653568835590c7def051a957552254019792cd311b"
  },
  "kernelspec": {
   "display_name": "Python 3.9.7 64-bit (windows store)",
   "name": "python3"
  },
  "language_info": {
   "codemirror_mode": {
    "name": "ipython",
    "version": 3
   },
   "file_extension": ".py",
   "mimetype": "text/x-python",
   "name": "python",
   "nbconvert_exporter": "python",
   "pygments_lexer": "ipython3",
   "version": "3.8.8"
  },
  "orig_nbformat": 4
 },
 "nbformat": 4,
 "nbformat_minor": 2
}
